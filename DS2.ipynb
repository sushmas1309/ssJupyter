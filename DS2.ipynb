{
 "cells": [
  {
   "cell_type": "markdown",
   "id": "ab3cbcf1",
   "metadata": {},
   "source": [
    "# Data Structure practise session 2"
   ]
  },
  {
   "cell_type": "code",
   "execution_count": 13,
   "id": "9fc03182",
   "metadata": {},
   "outputs": [
    {
     "data": {
      "text/plain": [
       "[]"
      ]
     },
     "execution_count": 13,
     "metadata": {},
     "output_type": "execute_result"
    }
   ],
   "source": [
    "my_list = []\n",
    "my_list"
   ]
  },
  {
   "cell_type": "code",
   "execution_count": 14,
   "id": "f21914e6",
   "metadata": {},
   "outputs": [
    {
     "data": {
      "text/plain": [
       "list"
      ]
     },
     "execution_count": 14,
     "metadata": {},
     "output_type": "execute_result"
    }
   ],
   "source": [
    "type(my_list)"
   ]
  },
  {
   "cell_type": "code",
   "execution_count": 15,
   "id": "ae1c8197",
   "metadata": {},
   "outputs": [
    {
     "data": {
      "text/plain": [
       "['a', 'boy', 1]"
      ]
     },
     "execution_count": 15,
     "metadata": {},
     "output_type": "execute_result"
    }
   ],
   "source": [
    "my_list = ['a','boy',1]\n",
    "my_list"
   ]
  },
  {
   "cell_type": "code",
   "execution_count": 16,
   "id": "2729b8db",
   "metadata": {},
   "outputs": [
    {
     "data": {
      "text/plain": [
       "['a', 'boy', 1, 100.2]"
      ]
     },
     "execution_count": 16,
     "metadata": {},
     "output_type": "execute_result"
    }
   ],
   "source": [
    "my_list.append(100.2)\n",
    "my_list"
   ]
  },
  {
   "cell_type": "code",
   "execution_count": 17,
   "id": "ebb40533",
   "metadata": {},
   "outputs": [
    {
     "data": {
      "text/plain": [
       "['a', 'boy', 1, 100.2, 'Sushma', False]"
      ]
     },
     "execution_count": 17,
     "metadata": {},
     "output_type": "execute_result"
    }
   ],
   "source": [
    "my_list.extend(['Sushma',False])\n",
    "my_list"
   ]
  },
  {
   "cell_type": "code",
   "execution_count": 18,
   "id": "8691b42a",
   "metadata": {},
   "outputs": [
    {
     "data": {
      "text/plain": [
       "['a', ['Dhiraj', 'Roxie'], 'boy', 1, 100.2, 'Sushma', False]"
      ]
     },
     "execution_count": 18,
     "metadata": {},
     "output_type": "execute_result"
    }
   ],
   "source": [
    "my_list.insert(1,[\"Dhiraj\",\"Roxie\"])\n",
    "my_list"
   ]
  },
  {
   "cell_type": "code",
   "execution_count": 19,
   "id": "bb3952d4",
   "metadata": {},
   "outputs": [
    {
     "data": {
      "text/plain": [
       "['a', ['Dhiraj', 'Roxie'], 'boy', 1, 100.2, 'Sushma', False, 'Prashant']"
      ]
     },
     "execution_count": 19,
     "metadata": {},
     "output_type": "execute_result"
    }
   ],
   "source": [
    "my_list.append(\"Prashant\")\n",
    "my_list"
   ]
  },
  {
   "cell_type": "code",
   "execution_count": 20,
   "id": "137ff148",
   "metadata": {},
   "outputs": [
    {
     "data": {
      "text/plain": [
       "['Shakti',\n",
       " 'a',\n",
       " ['Dhiraj', 'Roxie'],\n",
       " 'boy',\n",
       " 1,\n",
       " 100.2,\n",
       " 'Sushma',\n",
       " False,\n",
       " 'Prashant']"
      ]
     },
     "execution_count": 20,
     "metadata": {},
     "output_type": "execute_result"
    }
   ],
   "source": [
    "my_list.insert(0,\"Shakti\")\n",
    "my_list"
   ]
  },
  {
   "cell_type": "code",
   "execution_count": 24,
   "id": "8ef2503e",
   "metadata": {},
   "outputs": [
    {
     "name": "stdout",
     "output_type": "stream",
     "text": [
      "Shakti\ta\t['Dhiraj', 'Roxie']\tboy\t1\t100.2\tSushma\tFalse\tPrashant\t"
     ]
    }
   ],
   "source": [
    "for i in my_list :\n",
    "    print (i, end = '\\t')"
   ]
  },
  {
   "cell_type": "code",
   "execution_count": 25,
   "id": "d4c42bce",
   "metadata": {},
   "outputs": [
    {
     "data": {
      "text/plain": [
       "'a'"
      ]
     },
     "execution_count": 25,
     "metadata": {},
     "output_type": "execute_result"
    }
   ],
   "source": [
    "my_list[1]"
   ]
  },
  {
   "cell_type": "code",
   "execution_count": 29,
   "id": "97747ff9",
   "metadata": {},
   "outputs": [
    {
     "data": {
      "text/plain": [
       "['a', ['Dhiraj', 'Roxie']]"
      ]
     },
     "execution_count": 29,
     "metadata": {},
     "output_type": "execute_result"
    }
   ],
   "source": [
    "my_list[1:3]"
   ]
  },
  {
   "cell_type": "code",
   "execution_count": 32,
   "id": "d158eafe",
   "metadata": {},
   "outputs": [
    {
     "data": {
      "text/plain": [
       "['a', 'boy', 100.2]"
      ]
     },
     "execution_count": 32,
     "metadata": {},
     "output_type": "execute_result"
    }
   ],
   "source": [
    "my_list[1:6:2]"
   ]
  },
  {
   "cell_type": "code",
   "execution_count": 36,
   "id": "d139a08d",
   "metadata": {},
   "outputs": [
    {
     "name": "stdout",
     "output_type": "stream",
     "text": [
      "Shakti\n",
      "a\n",
      "['Dhiraj', 'Roxie']\n",
      "boy\n"
     ]
    }
   ],
   "source": [
    "values = range(4)\n",
    "for i in values:\n",
    "    print(my_list[i])"
   ]
  },
  {
   "cell_type": "code",
   "execution_count": 37,
   "id": "341c152d",
   "metadata": {},
   "outputs": [
    {
     "data": {
      "text/plain": [
       "range"
      ]
     },
     "execution_count": 37,
     "metadata": {},
     "output_type": "execute_result"
    }
   ],
   "source": [
    "type(values)"
   ]
  },
  {
   "cell_type": "code",
   "execution_count": 39,
   "id": "bb4650cd",
   "metadata": {},
   "outputs": [
    {
     "name": "stdout",
     "output_type": "stream",
     "text": [
      "a\n",
      "['Dhiraj', 'Roxie']\n"
     ]
    }
   ],
   "source": [
    "for i in my_list[1:3]:\n",
    "    print(i)\n",
    "    \n"
   ]
  },
  {
   "cell_type": "code",
   "execution_count": null,
   "id": "dbdddbb8",
   "metadata": {},
   "outputs": [],
   "source": []
  }
 ],
 "metadata": {
  "kernelspec": {
   "display_name": "Python 3 (ipykernel)",
   "language": "python",
   "name": "python3"
  },
  "language_info": {
   "codemirror_mode": {
    "name": "ipython",
    "version": 3
   },
   "file_extension": ".py",
   "mimetype": "text/x-python",
   "name": "python",
   "nbconvert_exporter": "python",
   "pygments_lexer": "ipython3",
   "version": "3.10.9"
  }
 },
 "nbformat": 4,
 "nbformat_minor": 5
}
