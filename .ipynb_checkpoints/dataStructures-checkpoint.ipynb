{
 "cells": [
  {
   "cell_type": "markdown",
   "id": "ae077d7f",
   "metadata": {},
   "source": [
    "# first file\n",
    "--  run with shift + enter"
   ]
  },
  {
   "cell_type": "markdown",
   "id": "71f51da6",
   "metadata": {},
   "source": [
    "## data structures"
   ]
  },
  {
   "cell_type": "markdown",
   "id": "8108dcbd",
   "metadata": {},
   "source": [
    "### List\n",
    "-  create with [  ]  : square bracket\n",
    "-  mutatable"
   ]
  },
  {
   "cell_type": "code",
   "execution_count": 10,
   "id": "3b240628",
   "metadata": {},
   "outputs": [
    {
     "name": "stdout",
     "output_type": "stream",
     "text": [
      "[1, 2, 3, 'sushma', 4, 5, 2.3]\n"
     ]
    }
   ],
   "source": [
    "List = [1, 2,  3, \"sushma\", 4,5,2.3]\n",
    "print(List)"
   ]
  },
  {
   "cell_type": "code",
   "execution_count": 17,
   "id": "603daf15",
   "metadata": {},
   "outputs": [],
   "source": [
    "#dir(List)"
   ]
  },
  {
   "cell_type": "code",
   "execution_count": null,
   "id": "83f12ca6",
   "metadata": {},
   "outputs": [],
   "source": []
  },
  {
   "cell_type": "code",
   "execution_count": 12,
   "id": "b4ba5227",
   "metadata": {},
   "outputs": [],
   "source": [
    "list1 = [1,4,2,'SS', 'F', True, 'DU']"
   ]
  },
  {
   "cell_type": "code",
   "execution_count": 13,
   "id": "8af79b7b",
   "metadata": {},
   "outputs": [
    {
     "data": {
      "text/plain": [
       "[1, 4, 2, 'SS', 'F', True, 'DU']"
      ]
     },
     "execution_count": 13,
     "metadata": {},
     "output_type": "execute_result"
    }
   ],
   "source": [
    "list1"
   ]
  },
  {
   "cell_type": "code",
   "execution_count": 14,
   "id": "1b1f814e",
   "metadata": {},
   "outputs": [
    {
     "data": {
      "text/plain": [
       "[1, 4, 2, 'SS', 'F', True, 'DU', 1, 2, 3, 'sushma', 4, 5, 2.3]"
      ]
     },
     "execution_count": 14,
     "metadata": {},
     "output_type": "execute_result"
    }
   ],
   "source": [
    "list1 + List"
   ]
  },
  {
   "cell_type": "code",
   "execution_count": 15,
   "id": "e12c27cf",
   "metadata": {},
   "outputs": [
    {
     "name": "stdout",
     "output_type": "stream",
     "text": [
      "[100, 4, 2, 'SS', 'F', True, 'DU']\n"
     ]
    }
   ],
   "source": [
    "list1[0] = 100\n",
    "print(list1)"
   ]
  },
  {
   "cell_type": "code",
   "execution_count": 18,
   "id": "861665bf",
   "metadata": {},
   "outputs": [
    {
     "name": "stdout",
     "output_type": "stream",
     "text": [
      "['New York', 'Los Angles', 'Boston', 'Denver']\n",
      "New York\n"
     ]
    }
   ],
   "source": [
    "list = [ \"New York\", \"Los Angles\", \"Boston\", \"Denver\" ]\n",
    "\n",
    "print(list)     # prints all elements\n",
    "print(list[0])  # print first element"
   ]
  },
  {
   "cell_type": "markdown",
   "id": "f42dfb97",
   "metadata": {},
   "source": [
    "### Tuple\n",
    "-  create with ( ) round bracket\n",
    "-  immutable"
   ]
  },
  {
   "cell_type": "code",
   "execution_count": null,
   "id": "c257471a",
   "metadata": {},
   "outputs": [],
   "source": [
    "tuple1 = (1,4,2,'SS', 'F', True, 'DU')"
   ]
  },
  {
   "cell_type": "code",
   "execution_count": null,
   "id": "c0e883dc",
   "metadata": {},
   "outputs": [],
   "source": [
    "tuple1"
   ]
  },
  {
   "cell_type": "code",
   "execution_count": null,
   "id": "84c5a0c9",
   "metadata": {},
   "outputs": [],
   "source": [
    "tuple1[0] = 100  #'tuple' object does not support item assignment\n",
    "print(tuple1)"
   ]
  },
  {
   "cell_type": "code",
   "execution_count": null,
   "id": "100ef8e6",
   "metadata": {},
   "outputs": [],
   "source": [
    "tuple1 = (1,2,4)\n",
    "print(tuple1)"
   ]
  },
  {
   "cell_type": "markdown",
   "id": "f04bbacd",
   "metadata": {},
   "source": [
    "### Dictionary\n",
    "-  create with { } with key:value pair"
   ]
  },
  {
   "cell_type": "code",
   "execution_count": null,
   "id": "82dbeba3",
   "metadata": {},
   "outputs": [],
   "source": [
    "Dict = {'Name': 'Geeks', 1: [1, 2, 3, 4]}\n",
    "print(\"Creating Dictionary: \")\n",
    "print(Dict)"
   ]
  },
  {
   "cell_type": "code",
   "execution_count": null,
   "id": "1b3d14e2",
   "metadata": {},
   "outputs": [],
   "source": [
    "staff = {'name':'Sushma', 'gender':'F', 'age':40, 'city': 'noida'}"
   ]
  },
  {
   "cell_type": "code",
   "execution_count": null,
   "id": "13aeb951",
   "metadata": {},
   "outputs": [],
   "source": [
    "staff"
   ]
  },
  {
   "cell_type": "code",
   "execution_count": null,
   "id": "fe792f6c",
   "metadata": {},
   "outputs": [],
   "source": [
    "staff['name']  # what is value of name in this dict"
   ]
  },
  {
   "cell_type": "code",
   "execution_count": null,
   "id": "7dd35a01",
   "metadata": {},
   "outputs": [],
   "source": [
    "staff.get('gender') # what is the value of gender"
   ]
  },
  {
   "cell_type": "code",
   "execution_count": null,
   "id": "aa9f6af7",
   "metadata": {},
   "outputs": [],
   "source": [
    "' , '.join(dir(staff))"
   ]
  },
  {
   "cell_type": "markdown",
   "id": "e69de22a",
   "metadata": {},
   "source": [
    "### Set\n",
    "-  created with {  }  and sep by comma \n",
    "-  sort, no duplicates"
   ]
  },
  {
   "cell_type": "code",
   "execution_count": null,
   "id": "1b4b7a7c",
   "metadata": {},
   "outputs": [],
   "source": [
    "teamA = {'India', 'Australia', 'England', 'India'}\n",
    "print(teamA)"
   ]
  },
  {
   "cell_type": "code",
   "execution_count": null,
   "id": "e648d7c1",
   "metadata": {},
   "outputs": [],
   "source": [
    "type(teamA)"
   ]
  },
  {
   "cell_type": "code",
   "execution_count": null,
   "id": "8a6c0413",
   "metadata": {},
   "outputs": [],
   "source": [
    "teamB = {'Pakistan','Sri Lanka', 'Ireland', 'India'}\n",
    "print(teamB)"
   ]
  },
  {
   "cell_type": "code",
   "execution_count": null,
   "id": "db928028",
   "metadata": {},
   "outputs": [],
   "source": [
    "teamA.intersection(teamB)"
   ]
  },
  {
   "cell_type": "code",
   "execution_count": null,
   "id": "1590b14b",
   "metadata": {},
   "outputs": [],
   "source": [
    "teamA.union(teamB)"
   ]
  },
  {
   "cell_type": "markdown",
   "id": "4deb88fa",
   "metadata": {},
   "source": [
    "### String\n",
    "-  immutable"
   ]
  },
  {
   "cell_type": "code",
   "execution_count": null,
   "id": "b4592896",
   "metadata": {},
   "outputs": [],
   "source": [
    "name = 'Sushma Srivastava, HCL'\n",
    "print(name)"
   ]
  },
  {
   "cell_type": "code",
   "execution_count": null,
   "id": "77806bce",
   "metadata": {},
   "outputs": [],
   "source": [
    "#name[1]= 'abc'  #cannot do"
   ]
  },
  {
   "cell_type": "code",
   "execution_count": null,
   "id": "06a2d430",
   "metadata": {},
   "outputs": [],
   "source": [
    "name = 'SS'\n",
    "print(name)"
   ]
  },
  {
   "cell_type": "code",
   "execution_count": null,
   "id": "d434d20e",
   "metadata": {},
   "outputs": [],
   "source": []
  }
 ],
 "metadata": {
  "kernelspec": {
   "display_name": "Python 3 (ipykernel)",
   "language": "python",
   "name": "python3"
  },
  "language_info": {
   "codemirror_mode": {
    "name": "ipython",
    "version": 3
   },
   "file_extension": ".py",
   "mimetype": "text/x-python",
   "name": "python",
   "nbconvert_exporter": "python",
   "pygments_lexer": "ipython3",
   "version": "3.10.9"
  }
 },
 "nbformat": 4,
 "nbformat_minor": 5
}
