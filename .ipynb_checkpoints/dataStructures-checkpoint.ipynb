{
 "cells": [
  {
   "cell_type": "markdown",
   "id": "ae077d7f",
   "metadata": {},
   "source": [
    "# first file\n",
    "--  run with shift + enter"
   ]
  },
  {
   "cell_type": "markdown",
   "id": "71f51da6",
   "metadata": {},
   "source": [
    "## data structures"
   ]
  },
  {
   "cell_type": "markdown",
   "id": "8108dcbd",
   "metadata": {},
   "source": [
    "### List\n",
    "-  create with [  ]  : square bracket\n",
    "-  mutatable"
   ]
  },
  {
   "cell_type": "code",
   "execution_count": 1,
   "id": "3b240628",
   "metadata": {
    "tags": []
   },
   "outputs": [
    {
     "name": "stdout",
     "output_type": "stream",
     "text": [
      "[1, 2, 3, 'sushma', 4, 5, 2.3]\n"
     ]
    }
   ],
   "source": [
    "List = [1, 2,  3, \"sushma\", 4,5,2.3]\n",
    "print(List)"
   ]
  },
  {
   "cell_type": "code",
   "execution_count": 2,
   "id": "603daf15",
   "metadata": {
    "tags": []
   },
   "outputs": [],
   "source": [
    "#dir(List)"
   ]
  },
  {
   "cell_type": "code",
   "execution_count": null,
   "id": "83f12ca6",
   "metadata": {},
   "outputs": [],
   "source": []
  },
  {
   "cell_type": "code",
   "execution_count": 3,
   "id": "b4ba5227",
   "metadata": {
    "tags": []
   },
   "outputs": [],
   "source": [
    "list1 = [1,4,2,'SS', 'F', True, 'DU']"
   ]
  },
  {
   "cell_type": "code",
   "execution_count": 4,
   "id": "8af79b7b",
   "metadata": {
    "tags": []
   },
   "outputs": [
    {
     "data": {
      "text/plain": [
       "[1, 4, 2, 'SS', 'F', True, 'DU']"
      ]
     },
     "execution_count": 4,
     "metadata": {},
     "output_type": "execute_result"
    }
   ],
   "source": [
    "list1"
   ]
  },
  {
   "cell_type": "code",
   "execution_count": 5,
   "id": "1b1f814e",
   "metadata": {
    "tags": []
   },
   "outputs": [
    {
     "data": {
      "text/plain": [
       "[1, 4, 2, 'SS', 'F', True, 'DU', 1, 2, 3, 'sushma', 4, 5, 2.3]"
      ]
     },
     "execution_count": 5,
     "metadata": {},
     "output_type": "execute_result"
    }
   ],
   "source": [
    "list1 + List"
   ]
  },
  {
   "cell_type": "code",
   "execution_count": 6,
   "id": "e12c27cf",
   "metadata": {
    "tags": []
   },
   "outputs": [
    {
     "name": "stdout",
     "output_type": "stream",
     "text": [
      "[100, 4, 2, 'SS', 'F', True, 'DU']\n"
     ]
    }
   ],
   "source": [
    "list1[0] = 100\n",
    "print(list1)"
   ]
  },
  {
   "cell_type": "code",
   "execution_count": 7,
   "id": "861665bf",
   "metadata": {
    "tags": []
   },
   "outputs": [
    {
     "name": "stdout",
     "output_type": "stream",
     "text": [
      "['New York', 'Los Angles', 'Boston', 'Denver']\n",
      "New York\n"
     ]
    }
   ],
   "source": [
    "list = [ \"New York\", \"Los Angles\", \"Boston\", \"Denver\" ]\n",
    "\n",
    "print(list)     # prints all elements\n",
    "print(list[0])  # print first element"
   ]
  },
  {
   "cell_type": "markdown",
   "id": "f42dfb97",
   "metadata": {},
   "source": [
    "### Tuple\n",
    "-  create with ( ) round bracket\n",
    "-  immutable"
   ]
  },
  {
   "cell_type": "code",
   "execution_count": 8,
   "id": "c257471a",
   "metadata": {
    "tags": []
   },
   "outputs": [],
   "source": [
    "tuple1 = (1,4,2,'SS', 'F', True, 'DU')"
   ]
  },
  {
   "cell_type": "code",
   "execution_count": 9,
   "id": "c0e883dc",
   "metadata": {
    "tags": []
   },
   "outputs": [
    {
     "data": {
      "text/plain": [
       "(1, 4, 2, 'SS', 'F', True, 'DU')"
      ]
     },
     "execution_count": 9,
     "metadata": {},
     "output_type": "execute_result"
    }
   ],
   "source": [
    "tuple1"
   ]
  },
  {
   "cell_type": "code",
   "execution_count": 10,
   "id": "84c5a0c9",
   "metadata": {
    "tags": []
   },
   "outputs": [
    {
     "ename": "TypeError",
     "evalue": "'tuple' object does not support item assignment",
     "output_type": "error",
     "traceback": [
      "\u001b[1;31m---------------------------------------------------------------------------\u001b[0m",
      "\u001b[1;31mTypeError\u001b[0m                                 Traceback (most recent call last)",
      "Cell \u001b[1;32mIn[10], line 1\u001b[0m\n\u001b[1;32m----> 1\u001b[0m tuple1[\u001b[38;5;241m0\u001b[39m] \u001b[38;5;241m=\u001b[39m \u001b[38;5;241m100\u001b[39m  \u001b[38;5;66;03m#'tuple' object does not support item assignment\u001b[39;00m\n\u001b[0;32m      2\u001b[0m \u001b[38;5;28mprint\u001b[39m(tuple1)\n",
      "\u001b[1;31mTypeError\u001b[0m: 'tuple' object does not support item assignment"
     ]
    }
   ],
   "source": [
    "tuple1[0] = 100  #'tuple' object does not support item assignment\n",
    "print(tuple1)"
   ]
  },
  {
   "cell_type": "code",
   "execution_count": null,
   "id": "100ef8e6",
   "metadata": {
    "tags": []
   },
   "outputs": [],
   "source": [
    "tuple1 = (1,2,4)\n",
    "print(tuple1)"
   ]
  },
  {
   "cell_type": "markdown",
   "id": "f04bbacd",
   "metadata": {},
   "source": [
    "### Dictionary\n",
    "-  create with { } with key:value pair"
   ]
  },
  {
   "cell_type": "code",
   "execution_count": 11,
   "id": "82dbeba3",
   "metadata": {
    "tags": []
   },
   "outputs": [
    {
     "name": "stdout",
     "output_type": "stream",
     "text": [
      "Creating Dictionary: \n",
      "{'Name': 'Geeks', 1: [1, 2, 3, 4]}\n"
     ]
    }
   ],
   "source": [
    "Dict = {'Name': 'Geeks', 1: [1, 2, 3, 4]}\n",
    "print(\"Creating Dictionary: \")\n",
    "print(Dict)"
   ]
  },
  {
   "cell_type": "code",
   "execution_count": 12,
   "id": "1b3d14e2",
   "metadata": {
    "tags": []
   },
   "outputs": [],
   "source": [
    "staff = {'name':'Sushma', 'gender':'F', 'age':40, 'city': 'noida'}"
   ]
  },
  {
   "cell_type": "code",
   "execution_count": 13,
   "id": "13aeb951",
   "metadata": {
    "tags": []
   },
   "outputs": [
    {
     "data": {
      "text/plain": [
       "{'name': 'Sushma', 'gender': 'F', 'age': 40, 'city': 'noida'}"
      ]
     },
     "execution_count": 13,
     "metadata": {},
     "output_type": "execute_result"
    }
   ],
   "source": [
    "staff"
   ]
  },
  {
   "cell_type": "code",
   "execution_count": 14,
   "id": "fe792f6c",
   "metadata": {
    "tags": []
   },
   "outputs": [
    {
     "data": {
      "text/plain": [
       "'Sushma'"
      ]
     },
     "execution_count": 14,
     "metadata": {},
     "output_type": "execute_result"
    }
   ],
   "source": [
    "staff['name']  # what is value of name in this dict"
   ]
  },
  {
   "cell_type": "code",
   "execution_count": 15,
   "id": "7dd35a01",
   "metadata": {
    "tags": []
   },
   "outputs": [
    {
     "data": {
      "text/plain": [
       "'F'"
      ]
     },
     "execution_count": 15,
     "metadata": {},
     "output_type": "execute_result"
    }
   ],
   "source": [
    "staff.get('gender') # what is the value of gender"
   ]
  },
  {
   "cell_type": "code",
   "execution_count": 16,
   "id": "aa9f6af7",
   "metadata": {
    "tags": []
   },
   "outputs": [
    {
     "data": {
      "text/plain": [
       "'__class__ , __class_getitem__ , __contains__ , __delattr__ , __delitem__ , __dir__ , __doc__ , __eq__ , __format__ , __ge__ , __getattribute__ , __getitem__ , __getstate__ , __gt__ , __hash__ , __init__ , __init_subclass__ , __ior__ , __iter__ , __le__ , __len__ , __lt__ , __ne__ , __new__ , __or__ , __reduce__ , __reduce_ex__ , __repr__ , __reversed__ , __ror__ , __setattr__ , __setitem__ , __sizeof__ , __str__ , __subclasshook__ , clear , copy , fromkeys , get , items , keys , pop , popitem , setdefault , update , values'"
      ]
     },
     "execution_count": 16,
     "metadata": {},
     "output_type": "execute_result"
    }
   ],
   "source": [
    "' , '.join(dir(staff))"
   ]
  },
  {
   "cell_type": "markdown",
   "id": "e69de22a",
   "metadata": {},
   "source": [
    "### Set\n",
    "-  created with {  }  and sep by comma \n",
    "-  sort, no duplicates"
   ]
  },
  {
   "cell_type": "code",
   "execution_count": 17,
   "id": "1b4b7a7c",
   "metadata": {
    "tags": []
   },
   "outputs": [
    {
     "name": "stdout",
     "output_type": "stream",
     "text": [
      "{'India', 'Australia', 'England'}\n"
     ]
    }
   ],
   "source": [
    "teamA = {'India', 'Australia', 'England', 'India'}\n",
    "print(teamA)"
   ]
  },
  {
   "cell_type": "code",
   "execution_count": 18,
   "id": "e648d7c1",
   "metadata": {
    "tags": []
   },
   "outputs": [
    {
     "data": {
      "text/plain": [
       "set"
      ]
     },
     "execution_count": 18,
     "metadata": {},
     "output_type": "execute_result"
    }
   ],
   "source": [
    "type(teamA)"
   ]
  },
  {
   "cell_type": "code",
   "execution_count": 19,
   "id": "8a6c0413",
   "metadata": {
    "tags": []
   },
   "outputs": [
    {
     "name": "stdout",
     "output_type": "stream",
     "text": [
      "{'Pakistan', 'India', 'Sri Lanka', 'Ireland'}\n"
     ]
    }
   ],
   "source": [
    "teamB = {'Pakistan','Sri Lanka', 'Ireland', 'India'}\n",
    "print(teamB)"
   ]
  },
  {
   "cell_type": "code",
   "execution_count": 20,
   "id": "db928028",
   "metadata": {
    "tags": []
   },
   "outputs": [
    {
     "data": {
      "text/plain": [
       "{'India'}"
      ]
     },
     "execution_count": 20,
     "metadata": {},
     "output_type": "execute_result"
    }
   ],
   "source": [
    "teamA.intersection(teamB)"
   ]
  },
  {
   "cell_type": "code",
   "execution_count": 21,
   "id": "1590b14b",
   "metadata": {
    "tags": []
   },
   "outputs": [
    {
     "data": {
      "text/plain": [
       "{'Australia', 'England', 'India', 'Ireland', 'Pakistan', 'Sri Lanka'}"
      ]
     },
     "execution_count": 21,
     "metadata": {},
     "output_type": "execute_result"
    }
   ],
   "source": [
    "teamA.union(teamB)"
   ]
  },
  {
   "cell_type": "markdown",
   "id": "4deb88fa",
   "metadata": {},
   "source": [
    "### String\n",
    "-  immutable"
   ]
  },
  {
   "cell_type": "code",
   "execution_count": 22,
   "id": "b4592896",
   "metadata": {
    "tags": []
   },
   "outputs": [
    {
     "name": "stdout",
     "output_type": "stream",
     "text": [
      "Sushma Srivastava, HCL\n"
     ]
    }
   ],
   "source": [
    "name = 'Sushma Srivastava, HCL'\n",
    "print(name)"
   ]
  },
  {
   "cell_type": "code",
   "execution_count": 23,
   "id": "77806bce",
   "metadata": {
    "tags": []
   },
   "outputs": [],
   "source": [
    "#name[1]= 'abc'  #cannot do"
   ]
  },
  {
   "cell_type": "code",
   "execution_count": 24,
   "id": "06a2d430",
   "metadata": {
    "tags": []
   },
   "outputs": [
    {
     "name": "stdout",
     "output_type": "stream",
     "text": [
      "SS\n"
     ]
    }
   ],
   "source": [
    "name = 'SS'\n",
    "print(name)"
   ]
  },
  {
   "cell_type": "code",
   "execution_count": null,
   "id": "d434d20e",
   "metadata": {},
   "outputs": [],
   "source": []
  }
 ],
 "metadata": {
  "kernelspec": {
   "display_name": "Python 3 (ipykernel)",
   "language": "python",
   "name": "python3"
  },
  "language_info": {
   "codemirror_mode": {
    "name": "ipython",
    "version": 3
   },
   "file_extension": ".py",
   "mimetype": "text/x-python",
   "name": "python",
   "nbconvert_exporter": "python",
   "pygments_lexer": "ipython3",
   "version": "3.11.5"
  }
 },
 "nbformat": 4,
 "nbformat_minor": 5
}
